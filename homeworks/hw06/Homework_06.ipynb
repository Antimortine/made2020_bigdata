{
 "cells": [
  {
   "cell_type": "code",
   "execution_count": 1,
   "metadata": {},
   "outputs": [],
   "source": [
    "import org.apache.spark.sql._\n",
    "import org.apache.spark.sql.expressions._\n",
    "import org.apache.spark.sql.functions._\n",
    "import org.apache.spark.sql.functions.udf\n",
    "\n",
    "import scala.util.matching.Regex"
   ]
  },
  {
   "cell_type": "code",
   "execution_count": 2,
   "metadata": {},
   "outputs": [
    {
     "data": {
      "text/plain": [
       "spark = org.apache.spark.sql.SparkSession@2e0034d3\n"
      ]
     },
     "metadata": {},
     "output_type": "display_data",
     "source": "user"
    },
    {
     "data": {
      "text/plain": [
       "org.apache.spark.sql.SparkSession@2e0034d3"
      ]
     },
     "execution_count": 2,
     "metadata": {},
     "output_type": "execute_result"
    }
   ],
   "source": [
    "val spark = SparkSession.builder()\n",
    "                        .master(\"local[*]\")\n",
    "                        .appName(\"hw06\")\n",
    "                        .getOrCreate()"
   ]
  },
  {
   "cell_type": "code",
   "execution_count": 3,
   "metadata": {},
   "outputs": [],
   "source": [
    "import spark.implicits._"
   ]
  },
  {
   "cell_type": "code",
   "execution_count": 4,
   "metadata": {},
   "outputs": [
    {
     "data": {
      "text/plain": [
       "data_path = ./tripadvisor_hotel_reviews.csv\n"
      ]
     },
     "metadata": {},
     "output_type": "display_data",
     "source": "user"
    },
    {
     "data": {
      "text/plain": [
       "./tripadvisor_hotel_reviews.csv"
      ]
     },
     "execution_count": 4,
     "metadata": {},
     "output_type": "execute_result"
    }
   ],
   "source": [
    "val data_path: String = \"./tripadvisor_hotel_reviews.csv\""
   ]
  },
  {
   "cell_type": "code",
   "execution_count": 5,
   "metadata": {},
   "outputs": [
    {
     "data": {
      "text/plain": [
       "reviews = [Review: string, Rating: int]\n"
      ]
     },
     "metadata": {},
     "output_type": "display_data",
     "source": "user"
    },
    {
     "data": {
      "text/plain": [
       "[Review: string, Rating: int]"
      ]
     },
     "execution_count": 5,
     "metadata": {},
     "output_type": "execute_result"
    }
   ],
   "source": [
    "var reviews = spark.read\n",
    "                .option(\"header\", \"true\")\n",
    "                .option(\"inferSchema\", \"true\")\n",
    "                .csv(data_path)"
   ]
  },
  {
   "cell_type": "code",
   "execution_count": 6,
   "metadata": {},
   "outputs": [
    {
     "name": "stdout",
     "output_type": "stream",
     "text": [
      "+--------------------+------+\n",
      "|              Review|Rating|\n",
      "+--------------------+------+\n",
      "|nice hotel expens...|     4|\n",
      "|ok nothing specia...|     2|\n",
      "|nice rooms not 4*...|     3|\n",
      "|unique, great sta...|     5|\n",
      "|great stay great ...|     5|\n",
      "+--------------------+------+\n",
      "only showing top 5 rows\n",
      "\n"
     ]
    }
   ],
   "source": [
    "reviews.show(5)"
   ]
  },
  {
   "cell_type": "code",
   "execution_count": 7,
   "metadata": {},
   "outputs": [
    {
     "data": {
      "text/plain": [
       "reviews = [Review: string, DocId: int]\n"
      ]
     },
     "metadata": {},
     "output_type": "display_data",
     "source": "user"
    },
    {
     "data": {
      "text/plain": [
       "[Review: string, DocId: int]"
      ]
     },
     "execution_count": 7,
     "metadata": {},
     "output_type": "execute_result"
    }
   ],
   "source": [
    "reviews = reviews\n",
    "        .select(\"Review\")\n",
    "        .withColumn(\"DocId\", row_number.over(Window.partitionBy(lit(1)).orderBy(lit(1))))"
   ]
  },
  {
   "cell_type": "code",
   "execution_count": 8,
   "metadata": {},
   "outputs": [
    {
     "name": "stdout",
     "output_type": "stream",
     "text": [
      "+--------------------+-----+\n",
      "|              Review|DocId|\n",
      "+--------------------+-----+\n",
      "|nice hotel expens...|    1|\n",
      "|ok nothing specia...|    2|\n",
      "|nice rooms not 4*...|    3|\n",
      "|unique, great sta...|    4|\n",
      "|great stay great ...|    5|\n",
      "+--------------------+-----+\n",
      "only showing top 5 rows\n",
      "\n"
     ]
    }
   ],
   "source": [
    "reviews.show(5)"
   ]
  },
  {
   "cell_type": "code",
   "execution_count": 9,
   "metadata": {},
   "outputs": [
    {
     "data": {
      "text/plain": [
       "cleanRegex = [^A-Za-z0-9]+\n"
      ]
     },
     "metadata": {},
     "output_type": "display_data",
     "source": "user"
    },
    {
     "data": {
      "text/plain": [
       "[^A-Za-z0-9]+"
      ]
     },
     "execution_count": 9,
     "metadata": {},
     "output_type": "execute_result"
    }
   ],
   "source": [
    "// В задании сказано удалить \"спецсимволы\", так что оставим только буквы и цифры, а всё остальное заменим на пробел\n",
    "val cleanRegex: Regex = raw\"[^A-Za-z0-9]+\".r"
   ]
  },
  {
   "cell_type": "code",
   "execution_count": 10,
   "metadata": {},
   "outputs": [
    {
     "data": {
      "text/plain": [
       "cleanStr: (str: String)String\n"
      ]
     },
     "metadata": {},
     "output_type": "display_data",
     "source": "user"
    }
   ],
   "source": [
    "def cleanStr(str: String): String = {\n",
    "    cleanRegex.replaceAllIn(str.toLowerCase, \" \").trim()\n",
    "}"
   ]
  },
  {
   "cell_type": "code",
   "execution_count": 11,
   "metadata": {},
   "outputs": [
    {
     "data": {
      "text/plain": [
       "cleanStrUDF = UserDefinedFunction(<function1>,StringType,Some(List(StringType)))\n"
      ]
     },
     "metadata": {},
     "output_type": "display_data",
     "source": "user"
    },
    {
     "data": {
      "text/plain": [
       "UserDefinedFunction(<function1>,StringType,Some(List(StringType)))"
      ]
     },
     "execution_count": 11,
     "metadata": {},
     "output_type": "execute_result"
    }
   ],
   "source": [
    "val cleanStrUDF = udf(cleanStr _)"
   ]
  },
  {
   "cell_type": "code",
   "execution_count": 12,
   "metadata": {},
   "outputs": [
    {
     "data": {
      "text/plain": [
       "cleanReviews = [DocId: int, CleanReview: string]\n"
      ]
     },
     "metadata": {},
     "output_type": "display_data",
     "source": "user"
    },
    {
     "data": {
      "text/plain": [
       "[DocId: int, CleanReview: string]"
      ]
     },
     "execution_count": 12,
     "metadata": {},
     "output_type": "execute_result"
    }
   ],
   "source": [
    "val cleanReviews = reviews\n",
    "                    .withColumn(\"CleanReview\", cleanStrUDF(col(\"Review\")))\n",
    "                    .drop(\"Review\")"
   ]
  },
  {
   "cell_type": "code",
   "execution_count": 13,
   "metadata": {},
   "outputs": [
    {
     "name": "stdout",
     "output_type": "stream",
     "text": [
      "+-----+--------------------+\n",
      "|DocId|         CleanReview|\n",
      "+-----+--------------------+\n",
      "|    1|nice hotel expens...|\n",
      "|    2|ok nothing specia...|\n",
      "|    3|nice rooms not 4 ...|\n",
      "|    4|unique great stay...|\n",
      "|    5|great stay great ...|\n",
      "+-----+--------------------+\n",
      "only showing top 5 rows\n",
      "\n"
     ]
    }
   ],
   "source": [
    "cleanReviews.show(5)"
   ]
  },
  {
   "cell_type": "code",
   "execution_count": 14,
   "metadata": {},
   "outputs": [
    {
     "data": {
      "text/plain": [
       "reviewWords = [DocId: int, Words: array<string>]\n"
      ]
     },
     "metadata": {},
     "output_type": "display_data",
     "source": "user"
    },
    {
     "data": {
      "text/plain": [
       "[DocId: int, Words: array<string>]"
      ]
     },
     "execution_count": 14,
     "metadata": {},
     "output_type": "execute_result"
    }
   ],
   "source": [
    "val reviewWords = cleanReviews\n",
    "                    .withColumn(\"Words\", split(col(\"CleanReview\"), \" \"))\n",
    "                    .drop(\"CleanReview\")"
   ]
  },
  {
   "cell_type": "code",
   "execution_count": 15,
   "metadata": {},
   "outputs": [
    {
     "name": "stdout",
     "output_type": "stream",
     "text": [
      "+-----+--------------------+\n",
      "|DocId|               Words|\n",
      "+-----+--------------------+\n",
      "|    1|[nice, hotel, exp...|\n",
      "|    2|[ok, nothing, spe...|\n",
      "|    3|[nice, rooms, not...|\n",
      "|    4|[unique, great, s...|\n",
      "|    5|[great, stay, gre...|\n",
      "+-----+--------------------+\n",
      "only showing top 5 rows\n",
      "\n"
     ]
    }
   ],
   "source": [
    "reviewWords.show(5)"
   ]
  },
  {
   "cell_type": "code",
   "execution_count": 16,
   "metadata": {},
   "outputs": [
    {
     "data": {
      "text/plain": [
       "documentsFlat = [DocId: bigint, Word: string]\n"
      ]
     },
     "metadata": {},
     "output_type": "display_data",
     "source": "user"
    },
    {
     "data": {
      "text/plain": [
       "[DocId: bigint, Word: string]"
      ]
     },
     "execution_count": 16,
     "metadata": {},
     "output_type": "execute_result"
    }
   ],
   "source": [
    "val documentsFlat = reviewWords.as[(Long, Array[String])]\n",
    "                        .flatMap {\n",
    "                            case (docId, words) => words.map((docId, _))\n",
    "                        }.toDF(\"DocId\", \"Word\")"
   ]
  },
  {
   "cell_type": "code",
   "execution_count": 17,
   "metadata": {},
   "outputs": [
    {
     "name": "stdout",
     "output_type": "stream",
     "text": [
      "+-----+---------+\n",
      "|DocId|     Word|\n",
      "+-----+---------+\n",
      "|    1|     nice|\n",
      "|    1|    hotel|\n",
      "|    1|expensive|\n",
      "|    1|  parking|\n",
      "|    1|      got|\n",
      "+-----+---------+\n",
      "only showing top 5 rows\n",
      "\n"
     ]
    }
   ],
   "source": [
    "documentsFlat.show(5)"
   ]
  },
  {
   "cell_type": "code",
   "execution_count": 18,
   "metadata": {},
   "outputs": [
    {
     "data": {
      "text/plain": [
       "wordCounts = [DocId: bigint, Word: string ... 1 more field]\n"
      ]
     },
     "metadata": {},
     "output_type": "display_data",
     "source": "user"
    },
    {
     "data": {
      "text/plain": [
       "[DocId: bigint, Word: string ... 1 more field]"
      ]
     },
     "execution_count": 18,
     "metadata": {},
     "output_type": "execute_result"
    }
   ],
   "source": [
    "val wordCounts = documentsFlat\n",
    "                    .groupBy(\"DocId\", \"Word\")\n",
    "                    .agg(count(\"*\").as(\"WordCount\"))"
   ]
  },
  {
   "cell_type": "code",
   "execution_count": 19,
   "metadata": {},
   "outputs": [
    {
     "name": "stdout",
     "output_type": "stream",
     "text": [
      "+-----+---------+---------+\n",
      "|DocId|     Word|WordCount|\n",
      "+-----+---------+---------+\n",
      "|    2| printout|        1|\n",
      "|    4|   showed|        1|\n",
      "|    4|bathrobes|        1|\n",
      "|    6|   closed|        1|\n",
      "|    6|   mighty|        1|\n",
      "+-----+---------+---------+\n",
      "only showing top 5 rows\n",
      "\n"
     ]
    }
   ],
   "source": [
    "wordCounts.show(5)"
   ]
  },
  {
   "cell_type": "code",
   "execution_count": 20,
   "metadata": {},
   "outputs": [
    {
     "data": {
      "text/plain": [
       "docLengths = [DocId: bigint, DocLen: bigint]\n"
      ]
     },
     "metadata": {},
     "output_type": "display_data",
     "source": "user"
    },
    {
     "data": {
      "text/plain": [
       "[DocId: bigint, DocLen: bigint]"
      ]
     },
     "execution_count": 20,
     "metadata": {},
     "output_type": "execute_result"
    }
   ],
   "source": [
    "val docLengths = wordCounts\n",
    "                    .groupBy(\"DocId\")\n",
    "                    .agg(sum(\"WordCount\").as(\"DocLen\"))"
   ]
  },
  {
   "cell_type": "code",
   "execution_count": 21,
   "metadata": {},
   "outputs": [
    {
     "name": "stdout",
     "output_type": "stream",
     "text": [
      "+-----+------+\n",
      "|DocId|DocLen|\n",
      "+-----+------+\n",
      "|   26|    73|\n",
      "|  964|    60|\n",
      "| 1697|    37|\n",
      "| 1950|    67|\n",
      "| 2040|    25|\n",
      "+-----+------+\n",
      "only showing top 5 rows\n",
      "\n"
     ]
    }
   ],
   "source": [
    "docLengths.show(5)"
   ]
  },
  {
   "cell_type": "code",
   "execution_count": 22,
   "metadata": {},
   "outputs": [
    {
     "data": {
      "text/plain": [
       "wordFreqs = [DocId: bigint, Word: string ... 3 more fields]\n"
      ]
     },
     "metadata": {},
     "output_type": "display_data",
     "source": "user"
    },
    {
     "data": {
      "text/plain": [
       "[DocId: bigint, Word: string ... 3 more fields]"
      ]
     },
     "execution_count": 22,
     "metadata": {},
     "output_type": "execute_result"
    }
   ],
   "source": [
    "val wordFreqs = wordCounts\n",
    "                    .join(docLengths, Seq(\"DocId\"), \"inner\")\n",
    "                    .withColumn(\"WordFreq\", (col(\"WordCount\") / col(\"DocLen\")))\n",
    "                    .orderBy(col(\"DocId\"), col(\"WordCount\").desc)"
   ]
  },
  {
   "cell_type": "code",
   "execution_count": 23,
   "metadata": {},
   "outputs": [
    {
     "name": "stdout",
     "output_type": "stream",
     "text": [
      "+-----+-------+---------+------+--------------------+\n",
      "|DocId|   Word|WordCount|DocLen|            WordFreq|\n",
      "+-----+-------+---------+------+--------------------+\n",
      "|    1|   nice|        5|    88|0.056818181818181816|\n",
      "|    1|   room|        3|    88| 0.03409090909090909|\n",
      "|    1|parking|        3|    88| 0.03409090909090909|\n",
      "|    1|   stay|        2|    88|0.022727272727272728|\n",
      "|    1|    did|        2|    88|0.022727272727272728|\n",
      "+-----+-------+---------+------+--------------------+\n",
      "only showing top 5 rows\n",
      "\n"
     ]
    }
   ],
   "source": [
    "wordFreqs.show(5)"
   ]
  },
  {
   "cell_type": "code",
   "execution_count": 24,
   "metadata": {},
   "outputs": [
    {
     "data": {
      "text/plain": [
       "totalDocuments = 20491\n"
      ]
     },
     "metadata": {},
     "output_type": "display_data",
     "source": "user"
    },
    {
     "data": {
      "text/plain": [
       "20491"
      ]
     },
     "execution_count": 24,
     "metadata": {},
     "output_type": "execute_result"
    }
   ],
   "source": [
    "val totalDocuments = reviewWords.count"
   ]
  },
  {
   "cell_type": "code",
   "execution_count": 25,
   "metadata": {},
   "outputs": [
    {
     "data": {
      "text/plain": [
       "documentFreqs = [Word: string, DocCount: bigint ... 3 more fields]\n"
      ]
     },
     "metadata": {},
     "output_type": "display_data",
     "source": "user"
    },
    {
     "data": {
      "text/plain": [
       "[Word: string, DocCount: bigint ... 3 more fields]"
      ]
     },
     "execution_count": 25,
     "metadata": {},
     "output_type": "execute_result"
    }
   ],
   "source": [
    "val documentFreqs = wordCounts\n",
    "                        .groupBy(\"Word\")\n",
    "                        .agg(count(col(\"DocId\")).as(\"DocCount\"))  // Число документов, содержащих слово\n",
    "                        .withColumn(\"DocFreq\", col(\"DocCount\") / lit(totalDocuments))\n",
    "                        .withColumn(\"InvDocFreq\", lit(1) / col(\"DocFreq\"))\n",
    "                        .withColumn(\"IDF\", log(col(\"InvDocFreq\")))\n",
    "                        .orderBy(col(\"DocCount\").desc)"
   ]
  },
  {
   "cell_type": "code",
   "execution_count": 26,
   "metadata": {},
   "outputs": [
    {
     "name": "stdout",
     "output_type": "stream",
     "text": [
      "+-----+--------+------------------+------------------+-------------------+\n",
      "| Word|DocCount|           DocFreq|        InvDocFreq|                IDF|\n",
      "+-----+--------+------------------+------------------+-------------------+\n",
      "|hotel|   16402| 0.800448977599922|1.2492988659919522|0.22258248674047598|\n",
      "| room|   14206|0.6932799765750818|1.4424186963254961| 0.3663213547790772|\n",
      "|  not|   12155|0.5931872529403153|1.6858083093377212| 0.5222451575866088|\n",
      "|staff|   11768|0.5743009125957738|   1.7412474507138|  0.554601782055559|\n",
      "|great|   11128|0.5430676882533796|1.8413910855499638| 0.6105213107335535|\n",
      "+-----+--------+------------------+------------------+-------------------+\n",
      "only showing top 5 rows\n",
      "\n"
     ]
    }
   ],
   "source": [
    "documentFreqs.show(5)"
   ]
  },
  {
   "cell_type": "markdown",
   "metadata": {},
   "source": [
    "\"Взять только 100 самых встречаемых\" здесь трактуется как 100 слов, встречающихся в наибольшем числе документов"
   ]
  },
  {
   "cell_type": "code",
   "execution_count": 27,
   "metadata": {},
   "outputs": [
    {
     "data": {
      "text/plain": [
       "top100DocFreqs = [Word: string, DocCount: bigint ... 3 more fields]\n"
      ]
     },
     "metadata": {},
     "output_type": "display_data",
     "source": "user"
    },
    {
     "data": {
      "text/plain": [
       "[Word: string, DocCount: bigint ... 3 more fields]"
      ]
     },
     "execution_count": 27,
     "metadata": {},
     "output_type": "execute_result"
    }
   ],
   "source": [
    "val top100DocFreqs = documentFreqs.limit(100)"
   ]
  },
  {
   "cell_type": "code",
   "execution_count": 28,
   "metadata": {},
   "outputs": [
    {
     "data": {
      "text/plain": [
       "top100TfIdf = [Word: string, DocId: bigint ... 5 more fields]\n"
      ]
     },
     "metadata": {},
     "output_type": "display_data",
     "source": "user"
    },
    {
     "data": {
      "text/plain": [
       "[Word: string, DocId: bigint ... 5 more fields]"
      ]
     },
     "execution_count": 28,
     "metadata": {},
     "output_type": "execute_result"
    }
   ],
   "source": [
    "val top100TfIdf = wordFreqs\n",
    "                    .join(top100DocFreqs.select(\"Word\", \"IDF\"), Seq(\"Word\"), \"inner\")\n",
    "                    .withColumn(\"TfIdf\", col(\"WordFreq\") * col(\"IDF\"))"
   ]
  },
  {
   "cell_type": "code",
   "execution_count": 29,
   "metadata": {},
   "outputs": [
    {
     "name": "stdout",
     "output_type": "stream",
     "text": [
      "+-----+-----+---------+------+--------------------+-------------------+--------------------+\n",
      "| Word|DocId|WordCount|DocLen|            WordFreq|                IDF|               TfIdf|\n",
      "+-----+-----+---------+------+--------------------+-------------------+--------------------+\n",
      "| nice|    1|        5|    88|0.056818181818181816| 1.0050827448124307| 0.05710697413706992|\n",
      "| room|    1|        3|    88| 0.03409090909090909| 0.3663213547790772|0.012488228003832176|\n",
      "|  did|    1|        2|    88|0.022727272727272728|   1.03884637496524|0.023610144885573635|\n",
      "|night|    1|        2|    88|0.022727272727272728| 1.1189235612361903|0.025430080937186145|\n",
      "|hotel|    1|        2|    88|0.022727272727272728|0.22258248674047598|0.005058692880465363|\n",
      "+-----+-----+---------+------+--------------------+-------------------+--------------------+\n",
      "only showing top 5 rows\n",
      "\n"
     ]
    }
   ],
   "source": [
    "top100TfIdf.show(5)"
   ]
  },
  {
   "cell_type": "code",
   "execution_count": 30,
   "metadata": {},
   "outputs": [
    {
     "data": {
      "text/plain": [
       "top100TfIdfPivot = [DocId: bigint, 10: double ... 99 more fields]\n"
      ]
     },
     "metadata": {},
     "output_type": "display_data",
     "source": "user"
    },
    {
     "data": {
      "text/plain": [
       "[DocId: bigint, 10: double ... 99 more fields]"
      ]
     },
     "execution_count": 30,
     "metadata": {},
     "output_type": "execute_result"
    }
   ],
   "source": [
    "val top100TfIdfPivot = top100TfIdf\n",
    "                        .select(\"DocId\", \"Word\", \"TfIdf\")\n",
    "                        .groupBy(\"DocId\")\n",
    "                        .pivot(\"Word\")\n",
    "                        .sum(\"TfIdf\")\n",
    "                        .na.fill(0)\n",
    "                        .orderBy(\"DocId\")\n",
    "                        .cache()"
   ]
  },
  {
   "cell_type": "code",
   "execution_count": 31,
   "metadata": {},
   "outputs": [
    {
     "name": "stdout",
     "output_type": "stream",
     "text": [
      "-RECORD 0----------------------------\n",
      " DocId       | 1                     \n",
      " 10          | 0.0                   \n",
      " 2           | 0.0                   \n",
      " 3           | 0.0                   \n",
      " 4           | 0.0                   \n",
      " 5           | 0.0                   \n",
      " area        | 0.0                   \n",
      " arrived     | 0.024336415983565462  \n",
      " away        | 0.0                   \n",
      " bar         | 0.0                   \n",
      " bathroom    | 0.0                   \n",
      " beach       | 0.0                   \n",
      " beautiful   | 0.0                   \n",
      " bed         | 0.018957759647777545  \n",
      " best        | 0.0                   \n",
      " better      | 0.0                   \n",
      " big         | 0.0                   \n",
      " bit         | 0.0                   \n",
      " booked      | 0.0                   \n",
      " breakfast   | 0.0                   \n",
      " buffet      | 0.0                   \n",
      " check       | 0.02152366609603048   \n",
      " city        | 0.0                   \n",
      " clean       | 0.01098007637530946   \n",
      " close       | 0.0                   \n",
      " comfortable | 0.01870473924915275   \n",
      " day         | 0.0                   \n",
      " days        | 0.0                   \n",
      " definitely  | 0.0                   \n",
      " desk        | 0.0                   \n",
      " did         | 0.023610144885573635  \n",
      " excellent   | 0.0                   \n",
      " experience  | 0.022984865850433713  \n",
      " fantastic   | 0.0                   \n",
      " floor       | 0.0                   \n",
      " food        | 0.0                   \n",
      " free        | 0.0                   \n",
      " friendly    | 0.0                   \n",
      " going       | 0.0                   \n",
      " good        | 0.008852992417644963  \n",
      " got         | 0.018078084171044055  \n",
      " great       | 0.0069377421674267446 \n",
      " helpful     | 0.0                   \n",
      " hotel       | 0.005058692880465363  \n",
      " hotels      | 0.0                   \n",
      " just        | 0.011023883817240742  \n",
      " large       | 0.0                   \n",
      " like        | 0.015156500160438019  \n",
      " little      | 0.017440357458862518  \n",
      " lobby       | 0.0                   \n",
      " location    | 0.010183733533583032  \n",
      " loved       | 0.0                   \n",
      " make        | 0.0                   \n",
      " minutes     | 0.0                   \n",
      " morning     | 0.023247767671190488  \n",
      " n           | 0.0                   \n",
      " need        | 0.0                   \n",
      " new         | 0.0                   \n",
      " nice        | 0.05710697413706992   \n",
      " night       | 0.025430080937186145  \n",
      " nights      | 0.0                   \n",
      " no          | 0.0                   \n",
      " not         | 0.011869208126968383  \n",
      " overall     | 0.024038214072138894  \n",
      " people      | 0.018121717097658193  \n",
      " perfect     | 0.0                   \n",
      " place       | 0.0                   \n",
      " pool        | 0.0                   \n",
      " price       | 0.0                   \n",
      " problem     | 0.0                   \n",
      " quiet       | 0.0                   \n",
      " quite       | 0.0                   \n",
      " really      | 0.0                   \n",
      " recommend   | 0.0                   \n",
      " resort      | 0.0                   \n",
      " restaurant  | 0.0                   \n",
      " restaurants | 0.0                   \n",
      " reviews     | 0.02141727453452898   \n",
      " right       | 0.0                   \n",
      " room        | 0.012488228003832176  \n",
      " rooms       | 0.0                   \n",
      " say         | 0.0                   \n",
      " service     | 0.0                   \n",
      " shower      | 0.0                   \n",
      " small       | 0.0                   \n",
      " staff       | 0.0                   \n",
      " stay        | 0.015870103526554998  \n",
      " stayed      | 0.0                   \n",
      " street      | 0.0                   \n",
      " t           | 0.0                   \n",
      " the         | 0.0                   \n",
      " time        | 0.0                   \n",
      " trip        | 0.0                   \n",
      " view        | 0.020147198540549006  \n",
      " walk        | 0.0                   \n",
      " walking     | 0.023477431437646044  \n",
      " want        | 0.0                   \n",
      " water       | 0.0                   \n",
      " way         | 0.0                   \n",
      " went        | 0.0                   \n",
      " wonderful   | 0.0                   \n",
      "-RECORD 1----------------------------\n",
      " DocId       | 2                     \n",
      " 10          | 0.0                   \n",
      " 2           | 0.011817035769419896  \n",
      " 3           | 0.0                   \n",
      " 4           | 0.021892367759171347  \n",
      " 5           | 0.0062803907126965    \n",
      " area        | 0.0                   \n",
      " arrived     | 0.008365642994350627  \n",
      " away        | 0.007063837713767733  \n",
      " bar         | 0.0                   \n",
      " bathroom    | 0.012091742907019063  \n",
      " beach       | 0.0                   \n",
      " beautiful   | 0.0                   \n",
      " bed         | 0.0                   \n",
      " best        | 0.0060963801230399725 \n",
      " better      | 0.014263752441278433  \n",
      " big         | 0.0                   \n",
      " bit         | 0.0                   \n",
      " booked      | 0.007243508106837607  \n",
      " breakfast   | 0.01192137056156456   \n",
      " buffet      | 0.0                   \n",
      " check       | 0.0                   \n",
      " city        | 0.0                   \n",
      " clean       | 0.003774401254012627  \n",
      " close       | 0.0                   \n",
      " comfortable | 0.006429754116896258  \n",
      " day         | 0.004815376764080182  \n",
      " days        | 0.0                   \n",
      " definitely  | 0.0                   \n",
      " desk        | 0.028804483406711167  \n",
      " did         | 0.008115987304415937  \n",
      " excellent   | 0.0                   \n",
      " experience  | 0.0                   \n",
      " fantastic   | 0.0                   \n",
      " floor       | 0.0                   \n",
      " food        | 0.0                   \n",
      " free        | 0.007298690707153061  \n",
      " friendly    | 0.0                   \n",
      " going       | 0.0                   \n",
      " good        | 0.012172864574261822  \n",
      " got         | 0.018643024301389182  \n",
      " great       | 0.0023848488700529435 \n",
      " helpful     | 0.005304513292193064  \n",
      " hotel       | 0.0043473141941499215 \n",
      " hotels      | 0.014193071922993381  \n",
      " just        | 0.0                   \n",
      " large       | 0.0                   \n",
      " like        | 0.010420093860301138  \n",
      " little      | 0.0                   \n",
      " lobby       | 0.0                   \n",
      " location    | 0.0                   \n",
      " loved       | 0.0                   \n",
      " make        | 0.007362188121244337  \n",
      " minutes     | 0.0                   \n",
      " morning     | 0.00799142013697173   \n",
      " n           | 0.0                   \n",
      " need        | 0.0                   \n",
      " new         | 0.0                   \n",
      " nice        | 0.003926104471923557  \n",
      " night       | 0.008741590322157737  \n",
      " nights      | 0.0                   \n",
      " no          | 0.012762237093671525  \n",
      " not         | 0.016320161174581526  \n",
      " overall     | 0.0                   \n",
      " people      | 0.0                   \n",
      " perfect     | 0.0                   \n",
      " place       | 0.0                   \n",
      " pool        | 0.0                   \n",
      " price       | 0.0                   \n",
      " problem     | 0.0                   \n",
      " quiet       | 0.0                   \n",
      " quite       | 0.0                   \n",
      " really      | 0.005594453722842613  \n",
      " recommend   | 0.0                   \n",
      " resort      | 0.0                   \n",
      " restaurant  | 0.0                   \n",
      " restaurants | 0.0                   \n",
      " reviews     | 0.0                   \n",
      " right       | 0.0                   \n",
      " room        | 0.008585656752634622  \n",
      " rooms       | 0.0                   \n",
      " say         | 0.0                   \n",
      " service     | 0.0                   \n",
      " shower      | 0.0                   \n",
      " small       | 0.0                   \n",
      " staff       | 0.004332826422309055  \n",
      " stay        | 0.00272767404362664   \n",
      " stayed      | 0.0                   \n",
      " street      | 0.0                   \n",
      " t           | 0.0                   \n",
      " the         | 0.005701281387274664  \n",
      " time        | 0.0                   \n",
      " trip        | 0.006741432395088323  \n",
      " view        | 0.006925599498313721  \n",
      " walk        | 0.0                   \n",
      " walking     | 0.0                   \n",
      " want        | 0.0                   \n",
      " water       | 0.0                   \n",
      " way         | 0.0                   \n",
      " went        | 0.0                   \n",
      " wonderful   | 0.0                   \n",
      "-RECORD 2----------------------------\n",
      " DocId       | 3                     \n",
      " 10          | 0.0                   \n",
      " 2           | 0.013152874595528233  \n",
      " 3           | 0.014258343274437982  \n",
      " 4           | 0.01624477143868946   \n",
      " 5           | 0.0                   \n",
      " area        | 0.0                   \n",
      " arrived     | 0.0                   \n",
      " away        | 0.007862358498802346  \n",
      " bar         | 0.0                   \n",
      " bathroom    | 0.013458635583464697  \n",
      " beach       | 0.0                   \n",
      " beautiful   | 0.0                   \n",
      " bed         | 0.014506807382647164  \n",
      " best        | 0.0                   \n",
      " better      | 0.0                   \n",
      " big         | 0.009200750239094143  \n",
      " bit         | 0.0                   \n",
      " booked      | 0.0                   \n",
      " breakfast   | 0.0                   \n",
      " buffet      | 0.0                   \n",
      " check       | 0.00823514181065514   \n",
      " city        | 0.0                   \n",
      " clean       | 0.0                   \n",
      " close       | 0.0                   \n",
      " comfortable | 0.007156595886632356  \n",
      " day         | 0.0                   \n",
      " days        | 0.0                   \n",
      " definitely  | 0.0                   \n",
      " desk        | 0.024045481800384974  \n",
      " did         | 0.01355017010824226   \n",
      " excellent   | 0.0                   \n",
      " experience  | 0.008794209542774638  \n",
      " fantastic   | 0.0                   \n",
      " floor       | 0.0                   \n",
      " food        | 0.0                   \n",
      " free        | 0.0                   \n",
      " friendly    | 0.0                   \n",
      " going       | 0.008979321074375166  \n",
      " good        | 0.0033872318815337246 \n",
      " got         | 0.013833664409146755  \n",
      " great       | 0.007963321444350697  \n",
      " helpful     | 0.0                   \n",
      " hotel       | 0.0029032498270496867 \n",
      " hotels      | 0.0                   \n",
      " just        | 0.0                   \n",
      " large       | 0.0084033544419085    \n",
      " like        | 0.0                   \n",
      " little      | 0.0                   \n",
      " lobby       | 0.0                   \n",
      " location    | 0.0                   \n",
      " loved       | 0.0                   \n",
      " make        | 0.0                   \n",
      " minutes     | 0.0                   \n",
      " morning     | 0.026684394196496906  \n",
      " n           | 0.02317014765237212   \n",
      " need        | 0.0                   \n",
      " new         | 0.0                   \n",
      " nice        | 0.013109774932336051  \n",
      " night       | 0.024324425244265004  \n",
      " nights      | 0.0                   \n",
      " no          | 0.00946994984342003   \n",
      " not         | 0.0022706311199417774 \n",
      " overall     | 0.0                   \n",
      " people      | 0.0                   \n",
      " perfect     | 0.0                   \n",
      " place       | 0.0                   \n",
      " pool        | 0.0                   \n",
      " price       | 0.008165194579933222  \n",
      " problem     | 0.0                   \n",
      " quiet       | 0.0                   \n",
      " quite       | 0.0                   \n",
      " really      | 0.0                   \n",
      " recommend   | 0.0                   \n",
      " resort      | 0.0                   \n",
      " restaurant  | 0.0                   \n",
      " restaurants | 0.0                   \n",
      " reviews     | 0.0                   \n",
      " right       | 0.0                   \n",
      " room        | 0.012741612340141815  \n",
      " rooms       | 0.0038088902860880336 \n",
      " say         | 0.0                   \n",
      " service     | 0.005073120295643465  \n",
      " shower      | 0.009209563998623573  \n",
      " small       | 0.0                   \n",
      " staff       | 0.0                   \n",
      " stay        | 0.012144079220320344  \n",
      " stayed      | 0.0                   \n",
      " street      | 0.0                   \n",
      " t           | 0.022637179668240307  \n",
      " the         | 0.0063457740658361475 \n",
      " time        | 0.0                   \n",
      " trip        | 0.0                   \n",
      " view        | 0.0                   \n",
      " walk        | 0.0                   \n",
      " walking     | 0.0                   \n",
      " want        | 0.0                   \n",
      " water       | 0.008247852696688224  \n",
      " way         | 0.007940723361340222  \n",
      " went        | 0.0                   \n",
      " wonderful   | 0.0                   \n",
      "-RECORD 3----------------------------\n",
      " DocId       | 4                     \n",
      " 10          | 0.0                   \n",
      " 2           | 0.01644109324441029   \n",
      " 3           | 0.0                   \n",
      " 4           | 0.0                   \n",
      " 5           | 0.0                   \n",
      " area        | 0.034146013153769916  \n",
      " arrived     | 0.0                   \n",
      " away        | 0.0                   \n",
      " bar         | 0.0                   \n",
      " bathroom    | 0.0                   \n",
      " beach       | 0.0                   \n",
      " beautiful   | 0.0                   \n",
      " bed         | 0.0                   \n",
      " best        | 0.0                   \n",
      " better      | 0.0                   \n",
      " big         | 0.023001875597735356  \n",
      " bit         | 0.0                   \n",
      " booked      | 0.0                   \n",
      " breakfast   | 0.0                   \n",
      " buffet      | 0.0                   \n",
      " check       | 0.0                   \n",
      " city        | 0.0                   \n",
      " clean       | 0.0                   \n",
      " close       | 0.0                   \n",
      " comfortable | 0.0                   \n",
      " day         | 0.0                   \n",
      " days        | 0.0                   \n",
      " definitely  | 0.0                   \n",
      " desk        | 0.0                   \n",
      " did         | 0.022583616847070432  \n",
      " excellent   | 0.032819683140300294  \n",
      " experience  | 0.0                   \n",
      " fantastic   | 0.0                   \n",
      " floor       | 0.0                   \n",
      " food        | 0.0                   \n",
      " free        | 0.04061880045719964   \n",
      " friendly    | 0.02672232166217878   \n",
      " going       | 0.0                   \n",
      " good        | 0.0                   \n",
      " got         | 0.0                   \n",
      " great       | 0.019908303610876744  \n",
      " helpful     | 0.0                   \n",
      " hotel       | 0.009677499423498956  \n",
      " hotels      | 0.0                   \n",
      " just        | 0.0                   \n",
      " large       | 0.0                   \n",
      " like        | 0.028995043785185772  \n",
      " little      | 0.0                   \n",
      " lobby       | 0.02234835195666508   \n",
      " location    | 0.009740962510383769  \n",
      " loved       | 0.0                   \n",
      " make        | 0.0                   \n",
      " minutes     | 0.0                   \n",
      " morning     | 0.0                   \n",
      " n           | 0.019308456376976767  \n",
      " need        | 0.0                   \n",
      " new         | 0.0                   \n",
      " nice        | 0.021849624887226752  \n",
      " night       | 0.0                   \n",
      " nights      | 0.0                   \n",
      " no          | 0.011837437304275037  \n",
      " not         | 0.0                   \n",
      " overall     | 0.0                   \n",
      " people      | 0.0                   \n",
      " perfect     | 0.0                   \n",
      " place       | 0.0                   \n",
      " pool        | 0.0                   \n",
      " price       | 0.0                   \n",
      " problem     | 0.0                   \n",
      " quiet       | 0.0                   \n",
      " quite       | 0.0                   \n",
      " really      | 0.0                   \n",
      " recommend   | 0.0                   \n",
      " resort      | 0.0                   \n",
      " restaurant  | 0.0                   \n",
      " restaurants | 0.0                   \n",
      " reviews     | 0.0                   \n",
      " right       | 0.0                   \n",
      " room        | 0.003981753856294317  \n",
      " rooms       | 0.0                   \n",
      " say         | 0.0                   \n",
      " service     | 0.012682800739108662  \n",
      " shower      | 0.0                   \n",
      " small       | 0.0                   \n",
      " staff       | 0.006028280239734337  \n",
      " stay        | 0.01518009902540043   \n",
      " stayed      | 0.0                   \n",
      " street      | 0.0                   \n",
      " t           | 0.018864316390200257  \n",
      " the         | 0.0                   \n",
      " time        | 0.012842410390801863  \n",
      " trip        | 0.0                   \n",
      " view        | 0.0                   \n",
      " walk        | 0.0                   \n",
      " walking     | 0.0                   \n",
      " want        | 0.0                   \n",
      " water       | 0.0                   \n",
      " way         | 0.0                   \n",
      " went        | 0.0                   \n",
      " wonderful   | 0.020594908105871352  \n",
      "-RECORD 4----------------------------\n",
      " DocId       | 5                     \n",
      " 10          | 0.0                   \n",
      " 2           | 0.007678074002465719  \n",
      " 3           | 0.0                   \n",
      " 4           | 0.0                   \n",
      " 5           | 0.0                   \n",
      " area        | 0.00797318073641328   \n",
      " arrived     | 0.0                   \n",
      " away        | 0.00917940332347482   \n",
      " bar         | 0.0                   \n",
      " bathroom    | 0.00785656391928142   \n",
      " beach       | 0.0                   \n",
      " beautiful   | 0.0                   \n",
      " bed         | 0.0                   \n",
      " best        | 0.00792219955075245   \n",
      " better      | 0.009267818845094616  \n",
      " big         | 0.0                   \n",
      " bit         | 0.0                   \n",
      " booked      | 0.009412883631220443  \n",
      " breakfast   | 0.0                   \n",
      " buffet      | 0.0                   \n",
      " check       | 0.009614632570815644  \n",
      " city        | 0.009616279332267875  \n",
      " clean       | 0.0                   \n",
      " close       | 0.0                   \n",
      " comfortable | 0.0                   \n",
      " day         | 0.0                   \n",
      " days        | 0.0                   \n",
      " definitely  | 0.0                   \n",
      " desk        | 0.00935780171588586   \n",
      " did         | 0.026366659263077154  \n",
      " excellent   | 0.0                   \n",
      " experience  | 0.0                   \n",
      " fantastic   | 0.0                   \n",
      " floor       | 0.008960531950236824  \n",
      " food        | 0.0                   \n",
      " free        | 0.0                   \n",
      " friendly    | 0.0                   \n",
      " going       | 0.01048347130510806   \n",
      " good        | 0.003954636206866784  \n",
      " got         | 0.008075489375897851  \n",
      " great       | 0.012396371791544233  \n",
      " helpful     | 0.006893174633509768  \n",
      " hotel       | 0.002259720677568284  \n",
      " hotels      | 0.009221894447427171  \n",
      " just        | 0.009848748994083098  \n",
      " large       | 0.009811022952482004  \n",
      " like        | 0.0                   \n",
      " little      | 0.0                   \n",
      " lobby       | 0.0                   \n",
      " location    | 0.0                   \n",
      " loved       | 0.0                   \n",
      " make        | 0.0                   \n",
      " minutes     | 0.0                   \n",
      " morning     | 0.0                   \n",
      " n           | 0.02705144142155121   \n",
      " need        | 0.0                   \n",
      " new         | 0.0                   \n",
      " nice        | 0.0                   \n",
      " night       | 0.0                   \n",
      " nights      | 0.0                   \n",
      " no          | 0.005528143309610677  \n",
      " not         | 0.0053019812952955206 \n",
      " overall     | 0.0                   \n",
      " people      | 0.0                   \n",
      " perfect     | 0.0                   \n",
      " place       | 0.006800592244467022  \n",
      " pool        | 0.0                   \n",
      " price       | 0.009532968291292592  \n",
      " problem     | 0.010928351663306152  \n",
      " quiet       | 0.0                   \n",
      " quite       | 0.0                   \n",
      " really      | 0.0                   \n",
      " recommend   | 0.007982722359771542  \n",
      " resort      | 0.0                   \n",
      " restaurant  | 0.0                   \n",
      " restaurants | 0.0                   \n",
      " reviews     | 0.0                   \n",
      " right       | 0.009202122183412386  \n",
      " room        | 0.00371899852567591   \n",
      " rooms       | 0.0                   \n",
      " say         | 0.0                   \n",
      " service     | 0.011845864649725856  \n",
      " shower      | 0.0                   \n",
      " small       | 0.0                   \n",
      " staff       | 0.0028152374723632435 \n",
      " stay        | 0.007089183301202231  \n",
      " stayed      | 0.0                   \n",
      " street      | 0.010043906317290944  \n",
      " t           | 0.02642919453652422   \n",
      " the         | 0.0                   \n",
      " time        | 0.005997470842404931  \n",
      " trip        | 0.0                   \n",
      " view        | 0.008999763815067577  \n",
      " walk        | 0.007425859559861949  \n",
      " walking     | 0.0                   \n",
      " want        | 0.009499057242709892  \n",
      " water       | 0.0                   \n",
      " way         | 0.00927089529496574   \n",
      " went        | 0.009430319265365437  \n",
      " wonderful   | 0.009617926628122662  \n",
      "only showing top 5 rows\n",
      "\n"
     ]
    }
   ],
   "source": [
    "top100TfIdfPivot.show(5, -1, true)"
   ]
  },
  {
   "cell_type": "code",
   "execution_count": 32,
   "metadata": {},
   "outputs": [],
   "source": [
    "top100TfIdfPivot.coalesce(1)\n",
    "                .write\n",
    "                .option(\"header\", \"true\")\n",
    "                .option(\"sep\", \",\")\n",
    "                .mode(\"overwrite\")\n",
    "                .csv(\"./results\")"
   ]
  },
  {
   "cell_type": "code",
   "execution_count": null,
   "metadata": {},
   "outputs": [],
   "source": []
  }
 ],
 "metadata": {
  "kernelspec": {
   "display_name": "Apache Toree - Scala",
   "language": "scala",
   "name": "apache_toree_scala"
  },
  "language_info": {
   "codemirror_mode": "text/x-scala",
   "file_extension": ".scala",
   "mimetype": "text/x-scala",
   "name": "scala",
   "pygments_lexer": "scala",
   "version": "2.11.12"
  }
 },
 "nbformat": 4,
 "nbformat_minor": 4
}
